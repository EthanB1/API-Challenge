


# Initial imports
import os
import requests
import pandas as pd
from dotenv import load_dotenv
import alpaca_trade_api as tradeapi
from MCForecastTools1 import MCSimulation

%matplotlib inline


# Load .env enviroment variables
load_dotenv()








# Set current amount of crypto assets
my_btc = 1.2
my_eth = 5.3


# Crypto API URLs
btc_url = "https://api.alternative.me/v2/ticker/Bitcoin/?convert=CAD"
eth_url = "https://api.alternative.me/v2/ticker/Ethereum/?convert=CAD"


# Fetch current BTC price
btc_response = requests.get(btc_url).json()
btc_price = btc_response['data']['1']['quotes']['CAD']['price']

# Fetch current ETH price
eth_response = requests.get(eth_url).json()
eth_price = eth_response['data']['1027']['quotes']['CAD']['price']

# Compute current value of my crpto
my_btc_value = my_btc * btc_price
my_eth_value = my_eth * eth_price

# Print current crypto wallet balance
print(f"The current value of your {my_btc} BTC is ${my_btc_value:0.2f}")
print(f"The current value of your {my_eth} ETH is ${my_eth_value:0.2f}")





# Set current amount of shares
my_agg = 200
my_spy = 50


# Set Alpaca API key and secret
alpaca_api_key = os.getenv('ALPACA_API_KEY')
alpaca_secret_key = os.getenv('ALPACA_SECRET_KEY')

# Create the Alpaca API object
alpaca = tradeapi.REST(
    alpaca_api_key,
    alpaca_secret_key,
    api_version='v2')


# Format current date as ISO format
today = pd.Timestamp('2023-06-14', tz='America/New_York').isoformat()


# Set the tickers
tickers = ["AGG", "SPY"]

# Set timeframe to "1Day" for Alpaca API
timeframe = "1Day"

# Get current closing prices for SPY and AGG
df_investments = alpaca.get_bars(
    tickers,
    timeframe,
    start = today
).df

# Reorganize the DataFrame
# Separate ticker data
AGG = df_investments[df_investments['symbol']=='AGG'].drop('symbol', axis = 1)
SPY = df_investments[df_investments['symbol']=='SPY'].drop('symbol', axis = 1)

# Concatenate the ticker DataFrames
df_investments = pd.concat([AGG,SPY], axis=1, keys=['AGG','SPY'])
# Preview DataFrame
df_investments


# Pick AGG and SPY close prices
agg_close = pd.DataFrame()
spy_close = pd.DataFrame()

agg_close["AGG"] = df_investments['AGG']['close']
spy_close['SPY'] = df_investments['SPY']['close']

agg_close_price = agg_close['AGG'].iloc[-1]
spy_close_price = spy_close['SPY'].iloc[-1]
# Print AGG and SPY close prices
print(f"Current AGG closing price: ${agg_close_price}")
print(f"Current SPY closing price: ${spy_close_price}")


# Compute the current value of shares
my_spy_value = my_spy * spy_close_price
my_agg_value = my_agg * agg_close_price
# Print current value of shares
print(f"The current value of your {my_spy} SPY shares is ${my_spy_value:0.2f}")
print(f"The current value of your {my_agg} AGG shares is ${my_agg_value:0.2f}")





# Set monthly household income
monthly_income = 12000

# Consolidate financial assets data
shares = my_spy_value + my_agg_value
crypto = my_eth_value + my_btc_value

# Create savings DataFrame
data = {'amount' :[crypto, shares]}
index = ['crypto', 'shares']
df_savings = pd.DataFrame(data, index=index)
# Display savings DataFrame
display(df_savings.sum)


# Plot savings pie chart
df_savings.plot.pie(y='amount', autopct='%.1f%%', figsize=(6, 6))



# Set ideal emergency fund
emergency_fund = monthly_income * 3

# Calculate total amount of savings
total_savings = df_savings.sum()
# Validate saving health
if (total_savings > emergency_fund).any():
    print("Congratulations! You have enough money in your emergency fund")
elif (total_savings < emergency_fund).any():
    difference = emergency_fund - total_savings
    print(f"You are ${difference} dollars away from meeting your financial goal")
else:
    print("Congratulations! You met your financial goal")






# Set start and end dates of five years back from today.
# Sample results may vary from the solution based on the time frame chosen
start_date = pd.Timestamp('2018-06-14', tz='America/New_York').isoformat()
end_date = pd.Timestamp('2022-06-14', tz='America/New_York').isoformat()


# Get 5 years' worth of historical data for SPY and AGG

df_portfolio = alpaca.get_bars(
    tickers,
    timeframe,
    start=start_date,
    end=end_date
).df
# Reorganize the DataFrame
# Separate ticker data
AGG = df_portfolio[df_portfolio['symbol']=='AGG'].drop('symbol', axis = 1)
SPY = df_portfolio[df_portfolio['symbol']=='SPY'].drop('symbol', axis = 1)



# Concatenate the ticker DataFrames
df_portfolio = pd.concat([AGG,SPY], axis=1, keys=['AGG','SPY'])
# Display sample data
df_portfolio.head()


# Configuring a Monte Carlo simulation to forecast 30 years cumulative returns
MC_dist = MCSimulation(
    portfolio_data = df_portfolio,
    weights = [.4,.6],
    num_simulation = 500,
    num_trading_days = 252*30
)



# Printing the simulation input data
MC_dist.portfolio_data.head()


# Running a Monte Carlo simulation to forecast 30 years cumulative returns
MC_dist.calc_cumulative_return()


# Plot simulation outcomes
line_plot = MC_dist.plot_simulation()


# Plot probability distribution and confidence intervals
dist_plot = MC_dist.plot_distribution()





# Fetch summary statistics from the Monte Carlo simulation results
dist_tbl = MC_even_dist.summarize_cumulative_return()
# Print summary statistics
print(dist_tbl)





# Set initial investment
initial_investment = 20000

# Use the lower and upper `95%` confidence intervals to calculate the range of the possible outcomes of our $20,000
ci_lower = round(even_tbl[8]*initial_investment,2)
ci_upper = round(even_tbl[9]*initial_investment,2)

# Print results
print(f"There is a 95% chance that an initial investment of ${initial_investment} in the portfolio"
      f" over the next 30 years will end within in the range of"
      f" ${ci_lower} and ${ci_upper}")





# Set initial investment
initial_investment = 20000 * 1.5

# Use the lower and upper `95%` confidence intervals to calculate the range of the possible outcomes of our $30,000
ci_lower = round(even_tbl[8]*initial_investment,2)
ci_upper = round(even_tbl[9]*initial_investment,2)

# Print results
print(f"There is a 95% chance that an initial investment of ${initial_investment} in the portfolio"
      f" over the next 30 years will end within in the range of"
      f" ${ci_lower} and ${ci_upper}")
